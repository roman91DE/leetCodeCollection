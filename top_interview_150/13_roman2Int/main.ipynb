{
 "cells": [
  {
   "cell_type": "code",
   "execution_count": 57,
   "metadata": {},
   "outputs": [],
   "source": [
    "class Solution:\n",
    "\n",
    "    def romanToInt(self, s: str) -> int:\n",
    "\n",
    "        d = {\"I\": 1, \"V\": 5, \"X\": 10, \"L\": 50, \"C\": 100, \"D\": 500, \"M\": 1000}\n",
    "\n",
    "        def recsum(s: str, acc: int) -> int:\n",
    "            if len(s) == 0:\n",
    "                return acc\n",
    "            elif len(s) == 1:\n",
    "                return acc + d[s]\n",
    "            else:\n",
    "                i, j = 0, 1\n",
    "                if d[s[i]] < d[s[j]]:\n",
    "                    acc += d[s[j]] - d[s[i]]\n",
    "                    return recsum(s[j + 1 :], acc)\n",
    "                else:\n",
    "                    acc += d[s[i]]\n",
    "                    return recsum(s[i + 1 :], acc)\n",
    "\n",
    "        return recsum(s, 0)\n",
    "\n",
    "\n",
    "s = Solution()"
   ]
  },
  {
   "cell_type": "code",
   "execution_count": 60,
   "metadata": {},
   "outputs": [],
   "source": [
    "assert s.romanToInt(\"VII\") == 7"
   ]
  },
  {
   "cell_type": "code",
   "execution_count": 61,
   "metadata": {},
   "outputs": [],
   "source": [
    "assert s.romanToInt(\"IX\") == 9"
   ]
  }
 ],
 "metadata": {
  "kernelspec": {
   "display_name": "base",
   "language": "python",
   "name": "python3"
  },
  "language_info": {
   "codemirror_mode": {
    "name": "ipython",
    "version": 3
   },
   "file_extension": ".py",
   "mimetype": "text/x-python",
   "name": "python",
   "nbconvert_exporter": "python",
   "pygments_lexer": "ipython3",
   "version": "3.10.11"
  }
 },
 "nbformat": 4,
 "nbformat_minor": 2
}
