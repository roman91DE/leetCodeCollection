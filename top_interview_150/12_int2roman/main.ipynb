{
 "cells": [
  {
   "cell_type": "code",
   "execution_count": 55,
   "metadata": {},
   "outputs": [],
   "source": [
    "class Solution:\n",
    "\n",
    "    def intToRoman(self, num: int) -> str:\n",
    "        ints = [1, 5, 10, 50, 100, 500, 1000]\n",
    "        signs = [\"I\", \"V\", \"X\", \"L\", \"C\", \"D\", \"M\"]\n",
    "        romanstr = \"\"\n",
    "\n",
    "        while num > 0:\n",
    "\n",
    "            first = str(num)[0]\n",
    "\n",
    "            if first == \"4\" or first == \"9\":\n",
    "                for sval in ints:\n",
    "                    if sval > num:\n",
    "                        match sval:\n",
    "                            case 5:\n",
    "                                romanstr += \"IV\"\n",
    "                                num -= 4\n",
    "                            case 10:\n",
    "                                romanstr += \"IX\"\n",
    "                                num -= 9\n",
    "                            case 50:\n",
    "                                romanstr += \"XL\"\n",
    "                                num -= 40\n",
    "                            case 100:\n",
    "                                romanstr += \"XC\"\n",
    "                                num -= 90\n",
    "                            case 500:\n",
    "                                romanstr += \"CD\"\n",
    "                                num -= 400\n",
    "                            case 1000:\n",
    "                                romanstr += \"CM\"\n",
    "                                num -= 900\n",
    "                            case _:\n",
    "                                print(sval, num, romanstr)\n",
    "                                raise RuntimeError()\n",
    "\n",
    "                        break\n",
    "\n",
    "            else:\n",
    "                for val, sign in zip(reversed(ints), reversed(signs)):\n",
    "\n",
    "                    if val <= num:\n",
    "                        romanstr += sign\n",
    "                        num -= val\n",
    "                        break\n",
    "\n",
    "        return romanstr\n",
    "\n",
    "    def intToRomanAlt(self, num: int) -> str:\n",
    "        val_to_roman = [\n",
    "            (1000, \"M\"),\n",
    "            (900, \"CM\"),\n",
    "            (500, \"D\"),\n",
    "            (400, \"CD\"),\n",
    "            (100, \"C\"),\n",
    "            (90, \"XC\"),\n",
    "            (50, \"L\"),\n",
    "            (40, \"XL\"),\n",
    "            (10, \"X\"),\n",
    "            (9, \"IX\"),\n",
    "            (5, \"V\"),\n",
    "            (4, \"IV\"),\n",
    "            (1, \"I\"),\n",
    "        ]\n",
    "        romanstr = \"\"\n",
    "\n",
    "        for val, sign in val_to_roman:\n",
    "            while num >= val:\n",
    "                romanstr += sign\n",
    "                num -= val\n",
    "\n",
    "        return romanstr\n",
    "\n",
    "\n",
    "s = Solution()"
   ]
  },
  {
   "cell_type": "code",
   "execution_count": 48,
   "metadata": {},
   "outputs": [],
   "source": [
    "assert s.intToRoman(9) == s.intToRomanAlt(9)"
   ]
  },
  {
   "cell_type": "code",
   "execution_count": 46,
   "metadata": {},
   "outputs": [],
   "source": [
    "assert s.intToRoman(3749) == s.intToRomanAlt(3749)"
   ]
  },
  {
   "cell_type": "code",
   "execution_count": 47,
   "metadata": {},
   "outputs": [],
   "source": [
    "assert s.intToRoman(58) == s.intToRomanAlt(58)"
   ]
  },
  {
   "cell_type": "code",
   "execution_count": 57,
   "metadata": {},
   "outputs": [],
   "source": [
    "assert s.intToRoman(1994) == s.intToRomanAlt(1994)"
   ]
  }
 ],
 "metadata": {
  "kernelspec": {
   "display_name": "ds",
   "language": "python",
   "name": "python3"
  },
  "language_info": {
   "codemirror_mode": {
    "name": "ipython",
    "version": 3
   },
   "file_extension": ".py",
   "mimetype": "text/x-python",
   "name": "python",
   "nbconvert_exporter": "python",
   "pygments_lexer": "ipython3",
   "version": "3.12.7"
  }
 },
 "nbformat": 4,
 "nbformat_minor": 2
}
