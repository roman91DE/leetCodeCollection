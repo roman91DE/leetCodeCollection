{
 "cells": [
  {
   "cell_type": "code",
   "execution_count": 55,
   "metadata": {},
   "outputs": [],
   "source": [
    "class Solution:\n",
    "    def compressedString(self, word: str) -> str:\n",
    "\n",
    "        def compress(word: str, output: str) -> str:\n",
    "            if len(word) == 0:\n",
    "                return output\n",
    "            \n",
    "            selected = word[0]\n",
    "            counter = 1\n",
    "\n",
    "            for c in word[1:]:\n",
    "                if (c != selected) or (counter > 8):\n",
    "                    break\n",
    "                else:\n",
    "                    counter += 1\n",
    "\n",
    "            output += f\"{counter}{selected}\"\n",
    "            return compress(word[counter:], output)\n",
    "                \n",
    "\n",
    "        return compress(word, \"\")\n",
    "\n",
    "\n"
   ]
  },
  {
   "cell_type": "code",
   "execution_count": 56,
   "metadata": {},
   "outputs": [],
   "source": [
    "s = Solution()"
   ]
  },
  {
   "cell_type": "code",
   "execution_count": 57,
   "metadata": {},
   "outputs": [
    {
     "name": "stdout",
     "output_type": "stream",
     "text": [
      "1a1b1c1d1e\n",
      "True\n"
     ]
    }
   ],
   "source": [
    "res = s.compressedString(\"abcde\")\n",
    "print(res)\n",
    "print(res == \"1a1b1c1d1e\")"
   ]
  },
  {
   "cell_type": "code",
   "execution_count": 58,
   "metadata": {},
   "outputs": [
    {
     "name": "stdout",
     "output_type": "stream",
     "text": [
      "9a5a2b\n",
      "True\n"
     ]
    }
   ],
   "source": [
    "res = s.compressedString(\"aaaaaaaaaaaaaabb\")\n",
    "print(res)\n",
    "print(res == \"9a5a2b\")"
   ]
  }
 ],
 "metadata": {
  "kernelspec": {
   "display_name": "ds",
   "language": "python",
   "name": "python3"
  },
  "language_info": {
   "codemirror_mode": {
    "name": "ipython",
    "version": 3
   },
   "file_extension": ".py",
   "mimetype": "text/x-python",
   "name": "python",
   "nbconvert_exporter": "python",
   "pygments_lexer": "ipython3",
   "version": "3.12.7"
  }
 },
 "nbformat": 4,
 "nbformat_minor": 2
}
